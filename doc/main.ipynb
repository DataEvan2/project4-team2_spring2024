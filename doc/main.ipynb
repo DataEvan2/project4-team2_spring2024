{
  "cells": [
    {
      "cell_type": "markdown",
      "metadata": {
        "id": "JcH7mUMgirSf"
      },
      "source": [
        "PROJECT 4 - GROUP 2\n",
        "\n",
        "# Machine Learning Fairness Algorithms Evaluation: A Comparative Analysis of Learning Fair Representations and Fairness Constraints: Mechanisms for Fair Classification\n",
        "\n",
        "## 1. Introduction\n",
        "\n",
        "Bias in algorithmic decision-making systems, particularly within the criminal justice system, is a pressing concern. Risk assessment tools like COMPAS are increasingly used to predict recidivism, potentially influencing sentencing decisions. However, these algorithms can perpetuate societal biases, leading to discriminatory outcomes for certain groups.\n",
        "\n",
        "This paper explores two promising approaches to achieving fairness in classification tasks:\n",
        "\n",
        "- Learning Fair Representations: This approach focuses on data representation. It aims to learn informative features from the data while simultaneously obfuscating sensitive attributes, like race, that could lead to bias.\n",
        "- Fairness Constraints (FNC), a mechanism starting with logistic regression and support vector machines, leveraging a novel intuitive measure of decision boundary (un)fairness\n",
        "\n",
        "**Motivation:**\n",
        "\n",
        "Across the United States, criminal justice systems are turning to algorithms to assess recidivism risk. Tools like COMPAS (Correctional Offender Management Profiling for Alternative Sanctions) have been criticized for racial bias. Studies have shown that COMPAS scores are more likely to incorrectly classify Black defendants as high risk for recidivism and white defendants as low risk.\n",
        "\n",
        "**Our Approach:**\n",
        "\n",
        "This work investigates and compares the effectiveness of these two contrasting approaches in achieving fairness within risk assessment algorithms. We analyze a dataset of COMPAS scores spanning two years to understand:\n",
        "\n",
        "- How well each approach balances accuracy and fairness?\n",
        "- Do these methods mitigate the observed discrimination in COMPAS scores?\n",
        "- Through this analysis, we aim to contribute to the development of fairer and more equitable risk assessment tools in the criminal justice system."
      ]
    },
    {
      "cell_type": "markdown",
      "metadata": {
        "id": "D7gnkiVnk-QK"
      },
      "source": [
        "## 2. Preparation\n",
        "### 2.1 Import Libraries and Packages"
      ]
    },
    {
      "cell_type": "code",
      "execution_count": null,
      "metadata": {
        "id": "AcLlfOQUk96x"
      },
      "outputs": [],
      "source": [
        "import numpy as np\n",
        "import pandas as pd\n",
        "import itertools\n",
        "import copy\n",
        "import math\n",
        "import time\n",
        "from sklearn.model_selection import train_test_split, KFold, cross_val_score\n",
        "\n",
        "import scipy\n",
        "from scipy import optimize\n",
        "import scipy.optimize as optim\n",
        "from scipy.optimize import minimize\n",
        "from numpy import linalg as LA"
      ]
    },
    {
      "cell_type": "code",
      "execution_count": null,
      "metadata": {
        "colab": {
          "base_uri": "https://localhost:8080/"
        },
        "id": "4RjXPGUigtPU",
        "outputId": "4959fac3-ccd0-4c9b-eed0-babe32a90156"
      },
      "outputs": [
        {
          "output_type": "stream",
          "name": "stdout",
          "text": [
            "Drive already mounted at /content/drive; to attempt to forcibly remount, call drive.mount(\"/content/drive\", force_remount=True).\n"
          ]
        }
      ],
      "source": [
        "from google.colab import drive\n",
        "drive.mount('/content/drive')\n"
      ]
    },
    {
      "cell_type": "markdown",
      "source": [
        "###2.2 Process & Clean Data"
      ],
      "metadata": {
        "id": "-ncqt_53PHu-"
      }
    },
    {
      "cell_type": "code",
      "execution_count": null,
      "metadata": {
        "id": "zXedErnR1OoF"
      },
      "outputs": [],
      "source": [
        "# Load the data\n",
        "df_raw = pd.read_csv('/content/drive/My Drive/compas-scores-two-years.csv')\n"
      ]
    },
    {
      "cell_type": "code",
      "execution_count": null,
      "metadata": {
        "colab": {
          "base_uri": "https://localhost:8080/"
        },
        "id": "SrnC3gqQ18cN",
        "outputId": "1793f7d3-5be3-4f6a-ee5d-6936b3b97d9c"
      },
      "outputs": [
        {
          "output_type": "stream",
          "name": "stdout",
          "text": [
            "Index(['id', 'name', 'first', 'last', 'compas_screening_date', 'sex', 'dob',\n",
            "       'age', 'age_cat', 'race', 'juv_fel_count', 'decile_score',\n",
            "       'juv_misd_count', 'juv_other_count', 'priors_count',\n",
            "       'days_b_screening_arrest', 'c_jail_in', 'c_jail_out', 'c_case_number',\n",
            "       'c_offense_date', 'c_arrest_date', 'c_days_from_compas',\n",
            "       'c_charge_degree', 'c_charge_desc', 'is_recid', 'r_case_number',\n",
            "       'r_charge_degree', 'r_days_from_arrest', 'r_offense_date',\n",
            "       'r_charge_desc', 'r_jail_in', 'r_jail_out', 'violent_recid',\n",
            "       'is_violent_recid', 'vr_case_number', 'vr_charge_degree',\n",
            "       'vr_offense_date', 'vr_charge_desc', 'type_of_assessment',\n",
            "       'decile_score.1', 'score_text', 'screening_date',\n",
            "       'v_type_of_assessment', 'v_decile_score', 'v_score_text',\n",
            "       'v_screening_date', 'in_custody', 'out_custody', 'priors_count.1',\n",
            "       'start', 'end', 'event', 'two_year_recid'],\n",
            "      dtype='object')\n"
          ]
        }
      ],
      "source": [
        "print(df_raw.columns)\n"
      ]
    },
    {
      "cell_type": "code",
      "execution_count": null,
      "metadata": {
        "id": "Zkh4Jx_81Zkm"
      },
      "outputs": [],
      "source": [
        "# Calculate the length of stay in hours\n",
        "length_of_stay = pd.to_datetime(df_raw[\"c_jail_out\"]) - pd.to_datetime(df_raw[\"c_jail_in\"])\n",
        "df = df_raw.copy()\n"
      ]
    },
    {
      "cell_type": "code",
      "execution_count": null,
      "metadata": {
        "colab": {
          "base_uri": "https://localhost:8080/"
        },
        "id": "41YbmHhx1lh8",
        "outputId": "aa9ec506-d0d7-43b1-9126-d79d8807e454"
      },
      "outputs": [
        {
          "output_type": "stream",
          "name": "stdout",
          "text": [
            "   two_year_recid  race  sex  age  c_charge_degree  priors_count  \\\n",
            "1               1     0    1    1                1             0   \n",
            "2               1     0    1    0                1             2   \n",
            "6               1     1    1    1                1             2   \n",
            "8               0     1    0    1                0             0   \n",
            "9               1     1    1    0                1             1   \n",
            "\n",
            "   length_of_stay  \n",
            "1       -0.185101  \n",
            "2       -0.355556  \n",
            "6       -0.256734  \n",
            "8       -0.320147  \n",
            "9       -0.357403  \n"
          ]
        }
      ],
      "source": [
        "# Convert seconds to days\n",
        "df[\"length_of_stay\"] = length_of_stay.dt.total_seconds() / 3600 / 24\n",
        "\n",
        "# Select features of interest for Approach 2\n",
        "df = df[[\"two_year_recid\", \"race\", \"sex\", \"age\", \"c_charge_degree\", \"priors_count\", \"length_of_stay\"]]\n",
        "\n",
        "# Apply filters and drop NA\n",
        "df = df.dropna()\n",
        "df = df.loc[(df[\"length_of_stay\"] > 0) & ((df[\"race\"]== \"African-American\") | (df[\"race\"]== \"Caucasian\"))]\n",
        "\n",
        "\n",
        "# Encoding categorical features\n",
        "# Encode 'race' as 0 for 'African-American' and 1 for others\n",
        "df['race'] = df['race'].apply(lambda x: 0 if x == 'African-American' else 1)\n",
        "\n",
        "# Encode 'sex' as 0 for 'Female' and 1 for 'Male'\n",
        "df['sex'] = df['sex'].apply(lambda x: 0 if x == 'Female' else 1)\n",
        "\n",
        "# Encode 'age' into three categories: 0 if age < 25, 1 if age is between 25 and 45, and 2 if age > 45\n",
        "df['age'] = df['age'].apply(lambda x: 0 if x < 25 else (2 if x > 45 else 1))\n",
        "\n",
        "# Encode 'c_charge_degree' as 0 for misdemeanors ('M') and 1 for felonies\n",
        "df['c_charge_degree'] = df['c_charge_degree'].apply(lambda x: 0 if x == 'M' else 1)\n",
        "\n",
        "# Encode 'priors_count' into three categories: 0 if no priors, 1 if 1 to 3 priors, and 2 if more than 3 priors\n",
        "df['priors_count'] = df['priors_count'].apply(lambda x: 0 if x == 0 else (2 if x > 3 else 1))\n",
        "\n",
        "# Normalizing 'length_of_stay' using z-score normalization (standardization)\n",
        "# This adjusts the length of stay feature to have mean of 0 and standard deviation of 1\n",
        "df['length_of_stay'] = (df['length_of_stay'] - df['length_of_stay'].mean()) / df['length_of_stay'].std()\n",
        "\n",
        "# Display the first few rows of the modified DataFrame\n",
        "print(df.head())\n"
      ]
    },
    {
      "cell_type": "markdown",
      "metadata": {
        "id": "4vLSQmtp3Grc"
      },
      "source": [
        "##2.2 Training & Test Sets"
      ]
    },
    {
      "cell_type": "code",
      "execution_count": null,
      "metadata": {
        "id": "4UxnK9YT3GYk"
      },
      "outputs": [],
      "source": [
        "# Shuffle the dataset to randomize the order of rows\n",
        "df_shuffled = df.sample(frac=1, random_state=1)\n",
        "\n",
        "# Calculate the index to split the dataset into training and test sets\n",
        "i = int(len(df_shuffled) * 0.7)  # 70% of the data is used for the training set\n",
        "\n",
        "# Split the dataset into training and test sets based on the calculated index\n",
        "train = df_shuffled[:i]  # The first 70% of rows go into the training set\n",
        "test = df_shuffled[i:]   # The remaining 30% go into the test set\n",
        "\n",
        "# Define the target variable, sensitive attribute, and the list of features for analysis\n",
        "label = \"two_year_recid\"\n",
        "sensitive = \"race\"\n",
        "features = [\"sex\", \"age\", \"c_charge_degree\", \"priors_count\", \"length_of_stay\"]\n"
      ]
    },
    {
      "cell_type": "code",
      "source": [
        "df1 = df[features]\n",
        "y = df[label]"
      ],
      "metadata": {
        "id": "VP_wBh01KZna"
      },
      "execution_count": null,
      "outputs": []
    },
    {
      "cell_type": "code",
      "execution_count": null,
      "metadata": {
        "id": "7H66sC3i3t3d"
      },
      "outputs": [],
      "source": [
        "x_train, y_train, race_train = train[features], train[label].to_numpy(), train[sensitive]\n",
        "x_test, y_test, race_test = test[features], test[label].to_numpy(), test[sensitive]"
      ]
    },
    {
      "cell_type": "markdown",
      "metadata": {
        "id": "hQhdtyYe30ZD"
      },
      "source": [
        "# 3. Baseline\n",
        "## 3.1 Logistic Regression"
      ]
    },
    {
      "cell_type": "code",
      "execution_count": null,
      "metadata": {
        "id": "7N-hNiJs4TH6"
      },
      "outputs": [],
      "source": [
        "from sklearn.linear_model import LogisticRegression"
      ]
    },
    {
      "cell_type": "code",
      "execution_count": null,
      "metadata": {
        "colab": {
          "base_uri": "https://localhost:8080/"
        },
        "id": "EhAa_EnD35tq",
        "outputId": "770b2027-9cad-41db-be8e-f3694eb2e110"
      },
      "outputs": [
        {
          "output_type": "stream",
          "name": "stdout",
          "text": [
            "  Methods    Set  Accuracy (%)  Calibration(%)\n",
            "0      LR  Train     66.135061       -1.317686\n",
            "1      LR   Test     66.104651        3.605784\n"
          ]
        }
      ],
      "source": [
        "# Define the function for calculating calibration as the percentage accuracy difference\n",
        "def MyCalibration(sensitive_attr, y_pred, y_true):\n",
        "    # Identify indices for each racial group\n",
        "    cau_index = np.where(sensitive_attr == 1)[0]  # Caucasians\n",
        "    african_index = np.where(sensitive_attr == 0)[0]  # African-Americans\n",
        "\n",
        "    # Calculate accuracy for Caucasians\n",
        "    y_pred_cau = y_pred[cau_index]\n",
        "    y_true_cau = y_true[cau_index]\n",
        "    Acc_cau = np.mean(y_pred_cau == y_true_cau) * 100  # Convert fraction to percentage\n",
        "\n",
        "    # Calculate accuracy for African-Americans\n",
        "    y_pred_african = y_pred[african_index]\n",
        "    y_true_african = y_true[african_index]\n",
        "    Acc_african = np.mean(y_pred_african == y_true_african) * 100  # Convert fraction to percentage\n",
        "\n",
        "    # Calculate calibration as the difference in accuracies\n",
        "    calibration = Acc_cau - Acc_african\n",
        "    return calibration\n",
        "\n",
        "# Logistic regression model fitting\n",
        "logReg1 = LogisticRegression(random_state=0).fit(x_train, y_train)\n",
        "\n",
        "# Use the model to predict on training and test sets\n",
        "y_pred_train = logReg1.predict(x_train)\n",
        "y_pred_test = logReg1.predict(x_test)\n",
        "\n",
        "# Create a summary dictionary\n",
        "summary_logReg = {\n",
        "    \"Methods\": [\"LR\", \"LR\"],\n",
        "    \"Set\": [\"Train\", \"Test\"],\n",
        "    \"Accuracy (%)\": [\n",
        "        np.mean(y_pred_train == y_train) * 100,  # Training accuracy\n",
        "        np.mean(y_pred_test == y_test) * 100     # Test accuracy\n",
        "    ],\n",
        "    \"Calibration(%)\": [\n",
        "        MyCalibration(race_train, y_pred_train, y_train),  # Calibration on training set\n",
        "        MyCalibration(race_test, y_pred_test, y_test)      # Calibration on test set\n",
        "    ]\n",
        "}\n",
        "\n",
        "# Convert the summary to a DataFrame for display\n",
        "summary_df = pd.DataFrame(summary_logReg)\n",
        "print(summary_df)\n"
      ]
    },
    {
      "cell_type": "markdown",
      "metadata": {
        "id": "Q6VqwMUY4aEe"
      },
      "source": [
        "## 3.2 Support Vector Machine (SVM)"
      ]
    },
    {
      "cell_type": "code",
      "execution_count": null,
      "metadata": {
        "id": "ycvfWbC64dar"
      },
      "outputs": [],
      "source": [
        "from sklearn.svm import SVC"
      ]
    },
    {
      "cell_type": "code",
      "execution_count": null,
      "metadata": {
        "colab": {
          "base_uri": "https://localhost:8080/"
        },
        "id": "5xezAiqx5BbR",
        "outputId": "e6029c8e-a4c0-4e3b-bffb-c69ce93b41ce"
      },
      "outputs": [
        {
          "output_type": "stream",
          "name": "stdout",
          "text": [
            "  Methods    Set  Accuracy (%)  Calibration(%)\n",
            "0     SVM  Train     61.948667       -0.201786\n",
            "1     SVM   Test     61.802326        2.186345\n"
          ]
        }
      ],
      "source": [
        "# Train the SVM model using a linear kernel\n",
        "svm_model1 = SVC(kernel='linear', probability=True, random_state=0)\n",
        "svm_model1.fit(x_train, y_train)\n",
        "\n",
        "# Predict on training and test sets\n",
        "y_pred_train_svm = svm_model1.predict(x_train)\n",
        "y_pred_test_svm = svm_model1.predict(x_test)\n",
        "\n",
        "# Create a summary of the SVM model's performance\n",
        "summary_svm = {\n",
        "    \"Methods\": [\"SVM\", \"SVM\"],\n",
        "    \"Set\": [\"Train\", \"Test\"],\n",
        "    \"Accuracy (%)\": [\n",
        "        svm_model1.score(x_train, y_train) * 100,  # Training accuracy\n",
        "        svm_model1.score(x_test, y_test) * 100     # Test accuracy\n",
        "    ],\n",
        "    \"Calibration(%)\": [\n",
        "        MyCalibration(race_train, y_pred_train_svm, y_train),  # Calibration on training set\n",
        "        MyCalibration(race_test, y_pred_test_svm, y_test)      # Calibration on test set\n",
        "    ]\n",
        "}\n",
        "\n",
        "# Display the summary in a DataFrame\n",
        "summary_df_svm = pd.DataFrame(summary_svm)\n",
        "print(summary_df_svm)"
      ]
    },
    {
      "cell_type": "markdown",
      "metadata": {
        "id": "8HPzMiGz5L8p"
      },
      "source": [
        "# 4. Implementation of Approach 1 (LFR)"
      ]
    },
    {
      "cell_type": "markdown",
      "metadata": {
        "id": "b5Vh4UWipZpO"
      },
      "source": [
        "Approach 1 is an algorithm designed for a clustering-based statistical modeling in the context of fairness-aware machine learning.\n",
        "\n",
        " It involves using data points labeled x’s and y, along with a sensitive variable (such as race in the Compas case), to compute Shapley values. These values are calculated by observing conditional probabilities and leveraging the structured dataset to gauge the trade-off between accuracy and discrimination when a variable is removed from the x matrix."
      ]
    },
    {
      "cell_type": "code",
      "execution_count": null,
      "metadata": {
        "id": "NCVn-gSVrgX-"
      },
      "outputs": [],
      "source": [
        "from sklearn.metrics import accuracy_score\n",
        "import math\n",
        "import warnings\n",
        "warnings.filterwarnings(\"ignore\")"
      ]
    },
    {
      "cell_type": "code",
      "source": [
        "#LFR\n",
        "def distances(X, V, alpha):\n",
        "  N,D = X.shape\n",
        "  K,D = V.shape\n",
        "  dists = np.zeros((N, D))\n",
        "  for i in range(N):\n",
        "    for d in range(D):\n",
        "      for k in range(K):\n",
        "        dists[i, k] += (X[i, d] - V[k, d]) * (X[i, d] - V[k, d]) * alpha[d]\n",
        "    return dists\n",
        "\n",
        "def M_nks(dists,K):\n",
        "  N,D = dists.shape\n",
        "  upper = np.zeros((N,K))\n",
        "  lower = np.zeros(N)\n",
        "  M_nks = np.zeros((N,K))\n",
        "  for i in range(N):\n",
        "    for j in range(K):\n",
        "      upper[i,j] = np.exp(-dists[i,j])\n",
        "      lower[i] += upper[i,j]\n",
        "    for j in range(K):\n",
        "      if lower[i]:\n",
        "        M_nks[i,j] = upper[i,j]/lower[i]\n",
        "      else:\n",
        "        M_nks[i, j] = upper[i, j] / 1e-6\n",
        "  return M_nks\n",
        "\n",
        "def M_ks (X,M_nks):\n",
        "  N,K = M_nks.shape\n",
        "  M_ks = np.zeros(K)\n",
        "  for i in range(K):\n",
        "    for j in range(N):\n",
        "      M_ks[i] += M_nks[j,i]\n",
        "    M_ks[i] = M_ks[i]/N\n",
        "  return M_ks\n",
        "\n",
        "def X_hat(X,V,M_nks):\n",
        "  N,D = X.shape\n",
        "  K,D = V.shape\n",
        "  X_hat = np.zeros((N,D))\n",
        "  for i in range(N):\n",
        "    for d in range(D):\n",
        "      for j in range(K):\n",
        "        X_hat[i,d] += M_nks[i,j]*V[j,d]\n",
        "  return X_hat\n",
        "\n",
        "def l_x(X,X_hat):\n",
        "  l_x = 0\n",
        "  N,D = X.shape\n",
        "  for i in range(N):\n",
        "    for d in range(D):\n",
        "      l_x += (X[i,d]-X_hat[i,d])**2\n",
        "  return l_x\n",
        "\n",
        "def Y_hat(M_nks,W):\n",
        "  N,K = M_nks.shape\n",
        "  Y_hat = np.zeros(N)\n",
        "  for i in range(N):\n",
        "    for j in range(K):\n",
        "      Y_hat[i] += M_nks[i,j]*W[j]\n",
        "    Y_hat[i] = 1e-6 if Y_hat[i] <= 0 else Y_hat[i]\n",
        "    Y_hat[i] = 0.999 if Y_hat[i] >= 1 else Y_hat[i]\n",
        "  return Y_hat\n",
        "\n",
        "def l_y(Y,Y_hat):\n",
        "  l_y = 0\n",
        "  N = len(Y)\n",
        "  for i in range(N):\n",
        "    l_y += -Y[i]*np.log(Y_hat[i]) - (1-Y[i])*(np.log(1-Y_hat[i]))\n",
        "  return l_y"
      ],
      "metadata": {
        "id": "zk-V1A4LBayN"
      },
      "execution_count": null,
      "outputs": []
    },
    {
      "cell_type": "code",
      "execution_count": null,
      "metadata": {
        "id": "AGG1oj2cup3D"
      },
      "outputs": [],
      "source": [
        "def LFR(params,X_sen,X_unsen,Y_sen,Y_unsen, k=10, A_x = 1e-4, A_y = 0.1, A_z = 1000, result=0):\n",
        "  LFR.iters+=1\n",
        "  N1,P = X_sen.shape\n",
        "  N0,_ = X_unsen.shape\n",
        "\n",
        "  alpha0 = params[:P]\n",
        "  alpha1 = params[P: 2 * P]\n",
        "  W = params[2 * P: (2 * P) + k]\n",
        "  V = np.matrix(params[(2 * P) + k:]).reshape((k, P))\n",
        "  dists_sen = distances(X_sen, V, alpha1)\n",
        "  dists_unsen = distances(X_unsen, V, alpha0)\n",
        "  M_nks_sen = M_nks(dists_sen,k)\n",
        "  M_nks_unsen = M_nks(dists_unsen,k)\n",
        "  M_ks_sen = M_ks(X_sen,M_nks_sen)\n",
        "  M_ks_unsen = M_ks(X_unsen,M_nks_unsen)\n",
        "\n",
        "  X_hat_sen = X_hat(X_sen,V,M_nks_sen)\n",
        "  X_hat_unsen = X_hat(X_unsen,V,M_nks_unsen)\n",
        "\n",
        "  L_x_1 =  l_x(X_sen,X_hat_sen)\n",
        "  L_x_0 = l_x(X_unsen,X_hat_unsen)\n",
        "\n",
        "  Y_hat_sen = Y_hat(M_nks_sen,W)\n",
        "  Y_hat_unsen = Y_hat(M_nks_unsen,W)\n",
        "\n",
        "  L_y_1 = l_y(Y_sen,Y_hat_sen)\n",
        "  L_y_0 = l_y(Y_unsen,Y_hat_unsen)\n",
        "\n",
        "  L_X = L_x_1+L_x_0\n",
        "  L_Y = L_y_1+L_y_0\n",
        "\n",
        "  L_z = 0\n",
        "\n",
        "  for i in range(k):\n",
        "    L_z += abs(M_ks_sen[i]-M_ks_unsen[i])\n",
        "\n",
        "  L_obj = A_z*L_z + A_x*L_X + A_y*L_Y\n",
        "\n",
        "  if LFR.iters % 250 == 0:\n",
        "    print(LFR.iters, L_obj)\n",
        "\n",
        "  if result:\n",
        "    return Y_hat_sen, Y_hat_unsen, M_nks_sen , M_nks_unsen\n",
        "  else:\n",
        "    return L_obj\n"
      ]
    },
    {
      "cell_type": "code",
      "source": [
        "import torch as t\n",
        "\n",
        "data = pd.read_csv('/content/drive/My Drive/Colab Notebooks/Cleaned_data_LFR.csv')\n",
        "X = data.drop(columns=[\"two_year_recid\"])\n",
        "y = data[\"two_year_recid\"]"
      ],
      "metadata": {
        "id": "u_ru13CSMIlu"
      },
      "execution_count": null,
      "outputs": []
    },
    {
      "cell_type": "code",
      "source": [
        "X_train, X_test, y_train, y_test = train_test_split(X, y, test_size=0.3)\n",
        "X_train_a = X_train[(X_train['race'] == 0)]\n",
        "X_train_c = X_train[(X_train['race'] == 1)]\n",
        "y_train_a = y_train[(X_train['race'] == 0)]\n",
        "y_train_c = y_train[(X_train['race'] == 1)]\n",
        "X_test_a = X_test[(X_test['race'] == 0)]\n",
        "X_test_c = X_test[(X_test['race'] == 1)]\n",
        "y_test_a = y_test[(X_test['race'] == 0)]\n",
        "y_test_c = y_test[(X_test['race'] == 1)]\n",
        "\n",
        "X_train_a = t.tensor(np.array(X_train_a)).to(t.float32)\n",
        "y_train_a = t.from_numpy(np.array(y_train_a).astype('float32')).reshape(X_train_a.shape[0], 1)\n",
        "X_train_c = t.tensor(np.array(X_train_c)).to(t.float32)\n",
        "y_train_c = t.from_numpy(np.array(y_train_c).astype('float32')).reshape(X_train_c.shape[0], 1)\n",
        "\n",
        "X_test_a = t.tensor(np.array(X_test_a)).to(t.float32)\n",
        "y_test_a = t.from_numpy(np.array(y_test_a).astype('float32')).reshape(X_test_a.shape[0], 1)\n",
        "X_test_c = t.tensor(np.array(X_test_c)).to(t.float32)\n",
        "y_test_c = t.from_numpy(np.array(y_test_c).astype('float32')).reshape(X_test_c.shape[0], 1)"
      ],
      "metadata": {
        "id": "acYY57SdL8gj"
      },
      "execution_count": null,
      "outputs": []
    },
    {
      "cell_type": "code",
      "source": [
        "LFR.iters = 0\n",
        "k=10\n",
        "D = 11\n",
        "rez = np.random.uniform(size=D * 2 + k + D * k)\n",
        "\n",
        "bnd = []\n",
        "for i, k2 in enumerate(rez):\n",
        "    if i < D * 2 or i >= D * 2 + k:\n",
        "        bnd.append((None, None))\n",
        "    else:\n",
        "        bnd.append((0, 1))\n",
        "\n",
        "# Start the timer\n",
        "start_time = time.time()\n",
        "\n",
        "# Perform optimization\n",
        "rez = optimize.fmin_l_bfgs_b(LFR, x0=rez, epsilon=1e-3,\n",
        "                          args=(X_train_a, X_train_c,\n",
        "                                y_train_a, y_train_c, k, 1e-4,\n",
        "                                0.1, 1000, 0),\n",
        "                          bounds = bnd, approx_grad=True, maxfun=2000,\n",
        "                          maxiter=2000)\n",
        "\n",
        "# End the timer\n",
        "end_time = time.time()\n",
        "\n",
        "# Calculate the duration\n",
        "training_duration = end_time - start_time\n",
        "print(f\"Training took {training_duration:.2f} seconds\")\n",
        "\n",
        "# Extract weights and prototypes\n",
        "w = rez[0][D*2:D*2+k]\n",
        "v = rez[0][D*2+k:].reshape(k,D)"
      ],
      "metadata": {
        "colab": {
          "base_uri": "https://localhost:8080/"
        },
        "id": "SEUmduUFMht9",
        "outputId": "283353c5-b2fd-4eb3-903c-495175400128"
      },
      "execution_count": null,
      "outputs": [
        {
          "output_type": "stream",
          "name": "stdout",
          "text": [
            "250 tensor([1653.1935])\n",
            "500 tensor([1787.3497])\n",
            "750 tensor([1598.6112])\n",
            "1000 tensor([1485.4026])\n",
            "1250 tensor([nan])\n",
            "1500 tensor([1335.9811])\n",
            "1750 tensor([1331.8538])\n",
            "2000 tensor([1320.6969])\n",
            "Training took 3841.16 seconds\n"
          ]
        }
      ]
    },
    {
      "cell_type": "code",
      "source": [
        "y_test_a = y_test_a.flatten()\n",
        "y_test_a = list(y_test_a)\n",
        "y_test_c = y_test_c.flatten()\n",
        "y_test_c = list(y_test_c)\n",
        "y_test= y_test_a + y_test_c\n",
        "y_test = np.array(y_test)\n",
        "\n",
        "LFR.iters=0\n",
        "yhat_a, yhat_c, Mnk_a,Mnk_c = LFR(rez[0],\n",
        "                                    X_train_a,\n",
        "                                    X_train_c,\n",
        "                                    y_train_a,\n",
        "                                    y_train_c,10, 1e-4, 0.1, 1000, result=1)\n",
        "\n",
        "yhat_a_test, yhat_c_test, Mnk_a_test,Mnk_c_test = LFR(rez[0],\n",
        "                                    X_test_a,\n",
        "                                    X_test_c,\n",
        "                                    y_test_a,\n",
        "                                    y_test_c,10, 1e-4, 0.1, 1000, result=1)\n"
      ],
      "metadata": {
        "id": "__jK_QjDPfAA"
      },
      "execution_count": null,
      "outputs": []
    },
    {
      "cell_type": "code",
      "source": [
        "Y_pred_a = [1 if y >= 0.5 else 0 for y in yhat_a_test]\n",
        "Y_pred_c = [1 if y >= 0.5 else 0 for  y in yhat_c_test]"
      ],
      "metadata": {
        "id": "uEdHpmRNPh6k"
      },
      "execution_count": null,
      "outputs": []
    },
    {
      "cell_type": "code",
      "source": [
        "def metrics_cal1( y_pred_a, y_a, y_pred_c, y_c):\n",
        "    accuracy_a  = np.sum(y_pred_a == y_a.flatten()) / y_a.shape[0]\n",
        "    accuracy_c  = np.sum(y_pred_c == y_c.flatten()) / y_c.shape[0]\n",
        "    accuracy = (accuracy_a + accuracy_c) / 2\n",
        "    discrimination = abs(sum(y_pred_a)/len(y_pred_a)-sum(y_pred_c)/len(y_pred_c))\n",
        "    calibration = abs(accuracy_a - accuracy_c)\n",
        "    return round(accuracy.item(),4), round(calibration.item(),4), round(discrimination.item(),4)"
      ],
      "metadata": {
        "id": "ekjsw6H7PjyX"
      },
      "execution_count": null,
      "outputs": []
    },
    {
      "cell_type": "code",
      "source": [
        "results = metrics_cal1(np.array(Y_pred_a), np.array(y_test_a), np.array(Y_pred_c), np.array(y_test_c))\n",
        "results"
      ],
      "metadata": {
        "id": "DsZuqqgGPlVW",
        "colab": {
          "base_uri": "https://localhost:8080/"
        },
        "outputId": "e81403ca-ca6a-44ca-8f5d-40623a2629a1"
      },
      "execution_count": null,
      "outputs": [
        {
          "output_type": "execute_result",
          "data": {
            "text/plain": [
              "(0.5573, 0.1084, 0.001)"
            ]
          },
          "metadata": {},
          "execution_count": 34
        }
      ]
    },
    {
      "cell_type": "code",
      "source": [
        "accuracy_test, calibration_test, discrimination_test = metrics_cal1(np.array(Y_pred_a), np.array(y_test_a), np.array(Y_pred_c), np.array(y_test_c))\n",
        "\n",
        "# Convert accuracy to percentage for display purposes\n",
        "accuracy_test_percent = accuracy_test * 100  # Convert to percentage\n",
        "calibration_test_percent = calibration_test * 100  # Convert to percentage\n",
        "\n",
        "# Generate the summary table\n",
        "summary = {\n",
        "    \"Classifier\": [\"LFR\"],\n",
        "    \"Set\": [\"Test\"],\n",
        "    \"Accuracy (%)\": [accuracy_test_percent],\n",
        "    \"Calibration (%)\": [calibration_test_percent]\n",
        "}\n",
        "\n",
        "summary_df = pd.DataFrame(summary)\n",
        "print(summary_df)"
      ],
      "metadata": {
        "colab": {
          "base_uri": "https://localhost:8080/"
        },
        "id": "nNnwlMoky3VQ",
        "outputId": "5b72ff40-5cc3-460d-8cd3-a46d04ae2d7a"
      },
      "execution_count": null,
      "outputs": [
        {
          "output_type": "stream",
          "name": "stdout",
          "text": [
            "  Classifier   Set  Accuracy (%)  Calibration (%)\n",
            "0        LFR  Test         55.73            10.84\n"
          ]
        }
      ]
    },
    {
      "cell_type": "markdown",
      "metadata": {
        "id": "SveY0Ou85Owb"
      },
      "source": [
        "# 5. Implementation of Approach 2 (FNC)"
      ]
    },
    {
      "cell_type": "markdown",
      "metadata": {
        "id": "dxZ2uvig6ecg"
      },
      "source": [
        "## 5.1 Import the Loss and Helper Functions from [Approach 2](https://github.com/mbilalzafar/fair-classification/tree/master/fair_classification)"
      ]
    },
    {
      "cell_type": "code",
      "execution_count": null,
      "metadata": {
        "id": "lLeOkmemmBGw"
      },
      "outputs": [],
      "source": [
        "import sys\n",
        "sys.path.append('/content/drive/My Drive/Colab Notebooks/')\n",
        "import loss_function as lf\n",
        "import clr as clr"
      ]
    },
    {
      "cell_type": "markdown",
      "metadata": {
        "id": "PwcjolR_6p-K"
      },
      "source": [
        "## 5.2 Train the Model and Evaluate"
      ]
    },
    {
      "cell_type": "code",
      "execution_count": null,
      "metadata": {
        "id": "IGjZajDfeSA4"
      },
      "outputs": [],
      "source": [
        "loss_function = lf.logistic_loss\n",
        "\n",
        "# Set unlimited iterations if required by setting max_iter to -1\n",
        "max_iter = -1\n",
        "\n",
        "# Enable fairness constraints\n",
        "apply_fairness_constraints = True\n",
        "\n",
        "# Define sensitive attributes as a list\n",
        "sensitive_attrs = ['race']\n",
        "\n",
        "# Set the covariance threshold for the sensitive attribute\n",
        "sensitive_attrs_to_cov_thresh = {'race': 0}\n",
        "\n",
        "# Prepare control features for training and testing data\n",
        "x_control_train = {'race': race_train}\n",
        "x_control_test = {'race': race_test}\n"
      ]
    },
    {
      "cell_type": "code",
      "execution_count": null,
      "metadata": {
        "colab": {
          "base_uri": "https://localhost:8080/"
        },
        "id": "TEvFsyvb6prP",
        "outputId": "e654535f-f36d-45d0-d12a-7dee28112437"
      },
      "outputs": [
        {
          "output_type": "stream",
          "name": "stdout",
          "text": [
            "  Classifier    Set  Accuracy (%)  Calibration (%)\n",
            "0        FNC  Train     47.620234       -10.350820\n",
            "1        FNC   Test     47.325581       -17.253523\n"
          ]
        }
      ],
      "source": [
        "# Initialize and train the model\n",
        "model = clr.LR()\n",
        "weights = model.train_model(x_train, y_train, x_control_train, loss_function, max_iter, apply_fairness_constraints, sensitive_attrs, sensitive_attrs_to_cov_thresh)\n",
        "\n",
        "# Calculate predictions\n",
        "predict_train = np.sign(np.dot(x_train, weights))\n",
        "predict_test = np.sign(np.dot(x_test, weights))\n",
        "\n",
        "# Evaluate accuracy\n",
        "accuracy_train = np.mean(predict_train == y_train) * 100\n",
        "accuracy_test = np.mean(predict_test == y_test) * 100\n",
        "\n",
        "# Generate a summary table\n",
        "summary = {\n",
        "    \"Classifier\": [\"FNC\", \"FNC\"],\n",
        "    \"Set\": [\"Train\", \"Test\"],\n",
        "    \"Accuracy (%)\": [accuracy_train, accuracy_test],\n",
        "    \"Calibration (%)\": [MyCalibration(race_train, predict_train, y_train), MyCalibration(race_test, predict_test, y_test)]\n",
        "}\n",
        "\n",
        "summary_df = pd.DataFrame(summary)\n",
        "print(summary_df)"
      ]
    },
    {
      "cell_type": "code",
      "execution_count": null,
      "metadata": {
        "colab": {
          "base_uri": "https://localhost:8080/"
        },
        "id": "UW7Kw6FqnnS7",
        "outputId": "0fdb3426-dd62-4a42-e29a-37ce7e42ecaf"
      },
      "outputs": [
        {
          "output_type": "stream",
          "name": "stdout",
          "text": [
            "Running custom model\n"
          ]
        }
      ],
      "source": [
        "import csvm as csvm\n",
        "\n",
        "# Initialize the hinge loss function from the lf module.\n",
        "loss_function = lf.hinge_loss\n",
        "\n",
        "# Set the penalty parameter C\n",
        "C = 1\n",
        "\n",
        "# Regularization parameter lambda to prevent overfitting.\n",
        "lamb = 1\n",
        "\n",
        "# Specify the number of training iterations (epochs).\n",
        "epochs = 1000\n",
        "\n",
        "# Define the learning rate for the optimization algorithm.\n",
        "lr = 0.1\n",
        "\n",
        "# Set gamma to 0 to prevent its influence in the model's accuracy.\n",
        "gamma = 0\n",
        "\n",
        "# Create an instance of the SVM class.\n",
        "CSVM = csvm.SVM()\n",
        "\n",
        "# Train the model using the specified parameters and fairness constraints.\n",
        "w = CSVM.train_model(x_train, y_train, x_control_train, loss_function, C, max_iter, lamb, epochs, lr, apply_fairness_constraints, sensitive_attrs, sensitive_attrs_to_cov_thresh, gamma=0)\n",
        "\n",
        "# Predict the training and testing labels using the learned weights.\n",
        "csvm_predict_y_train = np.sign(np.dot(x_train, w))\n",
        "csvm_predict_y_test = np.sign(np.dot(x_test, w))\n",
        "\n",
        "# Calculate the accuracy for both training and testing sets.\n",
        "csvm_train_accuracy = sum(csvm_predict_y_train == y_train) / len(y_train)\n",
        "csvm_test_accuracy = sum(csvm_predict_y_test == y_test) / len(y_test)"
      ]
    },
    {
      "cell_type": "code",
      "execution_count": null,
      "metadata": {
        "colab": {
          "base_uri": "https://localhost:8080/"
        },
        "id": "SocSm9Gkn0xa",
        "outputId": "a14ecd63-e8c1-4aa0-c766-ab9487d3613a"
      },
      "outputs": [
        {
          "output_type": "stream",
          "name": "stdout",
          "text": [
            "  Classifier    Set  Accuracy (%)  Calibration (%)\n",
            "0      C-SVM  Train     47.246449       -10.656093\n",
            "1      C-SVM   Test     46.511628       -16.883801\n"
          ]
        }
      ],
      "source": [
        "# Summary table including classifier name, data set, accuracy, and calibration.\n",
        "summary_c_svm = {\n",
        "    \"Classifier\": [\"C-SVM\", \"C-SVM\"],\n",
        "    \"Set\": [\"Train\", \"Test\"],\n",
        "    \"Accuracy (%)\": [csvm_train_accuracy * 100, csvm_test_accuracy * 100],\n",
        "    \"Calibration (%)\": [\n",
        "        MyCalibration(race_train, csvm_predict_y_train, y_train),\n",
        "        MyCalibration(race_test, csvm_predict_y_test, y_test)\n",
        "    ]\n",
        "}\n",
        "\n",
        "# Display the summary in a Pandas DataFrame.\n",
        "summary_df = pd.DataFrame(summary_c_svm)\n",
        "print(summary_df)\n"
      ]
    },
    {
      "cell_type": "code",
      "source": [
        "start_time = time.time()\n",
        "\n",
        "w = CSVM.train_model(x_train, y_train, x_control_train, loss_function, C, max_iter, lamb, epochs, lr, apply_fairness_constraints, sensitive_attrs, sensitive_attrs_to_cov_thresh, gamma=0)\n",
        "\n",
        "end_time = time.time()\n",
        "training_duration = end_time - start_time\n",
        "print(f\"Training took {training_duration} seconds\")\n"
      ],
      "metadata": {
        "colab": {
          "base_uri": "https://localhost:8080/"
        },
        "id": "OllJIwUI8XMw",
        "outputId": "7201f85a-3631-4622-da0c-5c2d8ee272a0"
      },
      "execution_count": null,
      "outputs": [
        {
          "output_type": "stream",
          "name": "stdout",
          "text": [
            "Running custom model\n",
            "Training took 0.023218631744384766 seconds\n"
          ]
        }
      ]
    },
    {
      "cell_type": "code",
      "source": [],
      "metadata": {
        "id": "ufE82wcvBF2g"
      },
      "execution_count": null,
      "outputs": []
    },
    {
      "cell_type": "markdown",
      "metadata": {
        "id": "-Chzqf1OoPD5"
      },
      "source": [
        "#6. Comparison & Conclusion\n"
      ]
    },
    {
      "cell_type": "code",
      "source": [
        "import matplotlib.pyplot as plt\n"
      ],
      "metadata": {
        "id": "bqwgi9Bc1HNs"
      },
      "execution_count": null,
      "outputs": []
    },
    {
      "cell_type": "markdown",
      "source": [
        "##6.1 Accuracy & Calibration Comparison"
      ],
      "metadata": {
        "id": "_3oDXVBL_UJ1"
      }
    },
    {
      "cell_type": "code",
      "source": [
        "data = {\n",
        "    \"Algorithm\": [\"Algo 1 test\", \"Algo 2 test\"],\n",
        "    \"Accuracy (%)\": [55.73, 46.51],\n",
        "    \"Calibration (%)\": [10.84, -14.412968]\n",
        "}"
      ],
      "metadata": {
        "id": "JeSlxEEg_T9m"
      },
      "execution_count": null,
      "outputs": []
    },
    {
      "cell_type": "code",
      "source": [
        "df = pd.DataFrame(data)\n",
        "\n",
        "#Plotting two separate graphs for Accuracy and Calibration\n",
        "\n",
        "fig, (ax1, ax2) = plt.subplots(nrows=1, ncols=2, figsize=(12, 6))\n",
        "\n",
        "#Plot for Accuracy\n",
        "ax1.bar(df['Algorithm'], df['Accuracy (%)'], color='tab:blue')\n",
        "ax1.set_xlabel('Algorithm')\n",
        "ax1.set_ylabel('Accuracy (%)')\n",
        "ax1.set_title('Accuracy Comparison')\n",
        "ax1.set_ylim(0, 100)  # Updating the limit as accuracy is now in percentage\n",
        "for i, v in enumerate(df['Accuracy (%)']):\n",
        "    ax1.text(i, v + 1, f\"{v:.2f}%\", ha='center', color='black')\n",
        "\n",
        "#Plot for Calibration\n",
        "ax2.plot(df['Algorithm'], df['Calibration (%)'], color='tab:red', marker='o')\n",
        "ax2.set_xlabel('Algorithm')\n",
        "ax2.set_ylabel('Calibration (%)')\n",
        "ax2.set_title('Calibration Comparison')\n",
        "for i, v in enumerate(df['Calibration (%)']):\n",
        "    ax2.text(i, v, f\"{v:.2f}%\", ha='center', color='black')\n",
        "\n",
        "#Show the plots\n",
        "plt.tight_layout()\n",
        "plt.show()"
      ],
      "metadata": {
        "colab": {
          "base_uri": "https://localhost:8080/",
          "height": 483
        },
        "id": "KiJCNec41gC-",
        "outputId": "af9f32b5-fa8d-40a7-bc13-7203991c2ba8"
      },
      "execution_count": null,
      "outputs": [
        {
          "output_type": "display_data",
          "data": {
            "text/plain": [
              "<Figure size 1200x600 with 2 Axes>"
            ],
            "image/png": "[encoded data removed]"
          },
          "metadata": {}
        }
      ]
    },
    {
      "cell_type": "markdown",
      "source": [
        "## 6.2 Training Time Comparison"
      ],
      "metadata": {
        "id": "ni-eJqmUB2tM"
      }
    },
    {
      "cell_type": "code",
      "source": [
        "#Data for execution time\n",
        "times_data = {\n",
        "    'Algorithm': ['Algorithm 1', 'Algorithm 2'],\n",
        "    'Time (seconds)': [1109.20, 0.023218631744384766]\n",
        "}\n",
        "\n",
        "#Convert to DataFrame\n",
        "times_df = pd.DataFrame(times_data)\n",
        "\n",
        "#Update the time for Algorithm 2\n",
        "times_df.at[1, 'Time (seconds)'] = 0.023218631744384766\n",
        "\n",
        "#Re-plot for Execution Time with updated data\n",
        "fig, ax = plt.subplots(figsize=(6, 4))\n",
        "ax.bar(times_df['Algorithm'], times_df['Time (seconds)'], color=['tab:blue', 'tab:green'])\n",
        "ax.set_xlabel('Algorithm')\n",
        "ax.set_ylabel('Time (seconds)')\n",
        "ax.set_title('Execution Time Comparison')\n",
        "for i, v in enumerate(times_df['Time (seconds)']):\n",
        "    ax.text(i, v + 0.001, f\"{v:.2f}s\", ha='center', color='black')\n",
        "\n",
        "plt.tight_layout()\n",
        "plt.show()"
      ],
      "metadata": {
        "colab": {
          "base_uri": "https://localhost:8080/",
          "height": 407
        },
        "id": "c7hLopwY77KO",
        "outputId": "a841862b-e86d-4301-f9c8-ac9b90834ec2"
      },
      "execution_count": null,
      "outputs": [
        {
          "output_type": "display_data",
          "data": {
            "text/plain": [
              "<Figure size 600x400 with 1 Axes>"
            ],
            "image/png": "[encoded data removed]"
          },
          "metadata": {}
        }
      ]
    }
  ],
  "metadata": {
    "colab": {
      "provenance": []
    },
    "kernelspec": {
      "display_name": "Python 3",
      "name": "python3"
    },
    "language_info": {
      "name": "python"
    }
  },
  "nbformat": 4,
  "nbformat_minor": 0
}